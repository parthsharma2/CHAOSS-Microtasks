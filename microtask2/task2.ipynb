{
 "cells": [
  {
   "cell_type": "code",
   "execution_count": 1,
   "metadata": {},
   "outputs": [],
   "source": [
    "from elasticsearch import Elasticsearch\n",
    "from elasticsearch_dsl import Search\n",
    "from datetime import datetime\n",
    "import matplotlib.pyplot as plt\n",
    "import subprocess\n",
    "import pandas"
   ]
  },
  {
   "cell_type": "code",
   "execution_count": 2,
   "metadata": {},
   "outputs": [],
   "source": [
    "#Create an ElasticSearch instance\n",
    "es = Elasticsearch('http://localhost:9200')\n",
    "\n",
    "raw_index = 'kingarthur_raw'\n",
    "enriched_index = 'kingarthur_enriched'\n",
    "\n",
    "repo_owner = 'chaoss'\n",
    "repo_name = 'grimoirelab-kingarthur'\n",
    "\n",
    "github_api_token = '<GITHUB_API_TOKEN>'"
   ]
  },
  {
   "cell_type": "code",
   "execution_count": null,
   "metadata": {
    "scrolled": true
   },
   "outputs": [],
   "source": [
    "#Run p2o.py for fetching data from the git repository and creating a enriched index\n",
    "subprocess.call('p2o.py --enrich --index ' + raw_index + ' --index-enrich ' + enriched_index + \n",
    "                ' -e http://localhost:9200 --no_inc github ' + repo_owner + ' ' + repo_name +\n",
    "                ' --sleep-for-rate')"
   ]
  },
  {
   "cell_type": "code",
   "execution_count": 4,
   "metadata": {},
   "outputs": [],
   "source": [
    "#Create a Search Query using elasticsearch_dsl\n",
    "s = Search(using=es, index=enriched_index)"
   ]
  },
  {
   "cell_type": "code",
   "execution_count": 5,
   "metadata": {},
   "outputs": [],
   "source": [
    "#Selecting only the necessary fields\n",
    "s = s.source(['author_name', 'item_type', 'created_at', 'closed_at', \n",
    "             'id_in_repo', 'time_open_days', 'time_to_close_days'])\n",
    "\n",
    "#Selecting only issues\n",
    "s = s.filter('terms', item_type=['issue'])\n",
    "\n",
    "#Selecting issues created in the past 6 months\n",
    "s = s.filter('range', created_at={'gte' : 'now-6M'})\n",
    "\n",
    "#Arranging the documents in acending order w.r.t. date created\n",
    "s = s.sort({'created_at': { 'order' : 'asc'}})"
   ]
  },
  {
   "cell_type": "code",
   "execution_count": 6,
   "metadata": {},
   "outputs": [
    {
     "data": {
      "text/html": [
       "<div>\n",
       "<style scoped>\n",
       "    .dataframe tbody tr th:only-of-type {\n",
       "        vertical-align: middle;\n",
       "    }\n",
       "\n",
       "    .dataframe tbody tr th {\n",
       "        vertical-align: top;\n",
       "    }\n",
       "\n",
       "    .dataframe thead th {\n",
       "        text-align: right;\n",
       "    }\n",
       "</style>\n",
       "<table border=\"1\" class=\"dataframe\">\n",
       "  <thead>\n",
       "    <tr style=\"text-align: right;\">\n",
       "      <th></th>\n",
       "      <th>author_name</th>\n",
       "      <th>closed_at</th>\n",
       "      <th>created_at</th>\n",
       "      <th>id_in_repo</th>\n",
       "      <th>item_type</th>\n",
       "      <th>time_open_days</th>\n",
       "      <th>time_to_close_days</th>\n",
       "    </tr>\n",
       "  </thead>\n",
       "  <tbody>\n",
       "    <tr>\n",
       "      <th>0</th>\n",
       "      <td>Olblak</td>\n",
       "      <td>0</td>\n",
       "      <td>2018-02-04T12:29:37Z</td>\n",
       "      <td>19</td>\n",
       "      <td>issue</td>\n",
       "      <td>48.92</td>\n",
       "      <td>0.00</td>\n",
       "    </tr>\n",
       "    <tr>\n",
       "      <th>1</th>\n",
       "      <td>Alvaro del Castillo</td>\n",
       "      <td>0</td>\n",
       "      <td>2018-03-21T06:12:02Z</td>\n",
       "      <td>26</td>\n",
       "      <td>issue</td>\n",
       "      <td>4.19</td>\n",
       "      <td>0.00</td>\n",
       "    </tr>\n",
       "    <tr>\n",
       "      <th>2</th>\n",
       "      <td>0</td>\n",
       "      <td>0</td>\n",
       "      <td>2018-03-22T02:27:01Z</td>\n",
       "      <td>27</td>\n",
       "      <td>issue</td>\n",
       "      <td>3.34</td>\n",
       "      <td>0.00</td>\n",
       "    </tr>\n",
       "    <tr>\n",
       "      <th>3</th>\n",
       "      <td>Alvaro del Castillo</td>\n",
       "      <td>2017-12-18T16:23:09Z</td>\n",
       "      <td>2017-12-18T05:27:06Z</td>\n",
       "      <td>9</td>\n",
       "      <td>issue</td>\n",
       "      <td>0.46</td>\n",
       "      <td>0.46</td>\n",
       "    </tr>\n",
       "    <tr>\n",
       "      <th>4</th>\n",
       "      <td>Santiago Dueñas</td>\n",
       "      <td>2018-02-27T08:44:11Z</td>\n",
       "      <td>2018-02-14T10:39:09Z</td>\n",
       "      <td>21</td>\n",
       "      <td>issue</td>\n",
       "      <td>12.92</td>\n",
       "      <td>12.92</td>\n",
       "    </tr>\n",
       "  </tbody>\n",
       "</table>\n",
       "</div>"
      ],
      "text/plain": [
       "           author_name             closed_at            created_at id_in_repo  \\\n",
       "0               Olblak                     0  2018-02-04T12:29:37Z         19   \n",
       "1  Alvaro del Castillo                     0  2018-03-21T06:12:02Z         26   \n",
       "2                    0                     0  2018-03-22T02:27:01Z         27   \n",
       "3  Alvaro del Castillo  2017-12-18T16:23:09Z  2017-12-18T05:27:06Z          9   \n",
       "4      Santiago Dueñas  2018-02-27T08:44:11Z  2018-02-14T10:39:09Z         21   \n",
       "\n",
       "  item_type  time_open_days  time_to_close_days  \n",
       "0     issue           48.92                0.00  \n",
       "1     issue            4.19                0.00  \n",
       "2     issue            3.34                0.00  \n",
       "3     issue            0.46                0.46  \n",
       "4     issue           12.92               12.92  "
      ]
     },
     "execution_count": 6,
     "metadata": {},
     "output_type": "execute_result"
    }
   ],
   "source": [
    "results = pandas.DataFrame(d.to_dict() for d in s.scan())\n",
    "results.fillna(0)"
   ]
  },
  {
   "cell_type": "code",
   "execution_count": 7,
   "metadata": {},
   "outputs": [
    {
     "data": {
      "image/png": "[encoded data removed]",
      "text/plain": [
       "<Figure size 1080x720 with 1 Axes>"
      ]
     },
     "metadata": {},
     "output_type": "display_data"
    }
   ],
   "source": [
    "#Ploting the results into a graph\n",
    "plot = results.plot(x=['id_in_repo'], kind='bar', title='Issues: Last 6 Months', figsize=(15,10))\n",
    "plot.set_xlabel('Id of Issue')\n",
    "plot.set_ylabel('No. of Days')\n",
    "legend = plot.legend()\n",
    "legend.get_texts()[0].set_text('Days Issue was Open')\n",
    "legend.get_texts()[1].set_text('Days it took to Close the Issue')"
   ]
  }
 ],
 "metadata": {
  "kernelspec": {
   "display_name": "Python 3: Grimoire Lab",
   "language": "python",
   "name": "grimoire-lab"
  },
  "language_info": {
   "codemirror_mode": {
    "name": "ipython",
    "version": 3
   },
   "file_extension": ".py",
   "mimetype": "text/x-python",
   "name": "python",
   "nbconvert_exporter": "python",
   "pygments_lexer": "ipython3",
   "version": "3.5.2"
  }
 },
 "nbformat": 4,
 "nbformat_minor": 2
}
